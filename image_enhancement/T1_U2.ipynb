{
 "cells": [
  {
   "cell_type": "markdown",
   "metadata": {},
   "source": [
    "# Image enhancement in the spatial domain\n",
    "\n",
    "In the following unit we will start reviewing something called filter, this could help us to enhance image so we can improve what we are seeing.\n",
    "For future reference we have to work all kind of image processing using the following procedure. \n",
    "\n",
    "-Preprocessing: This is the part that we will review on this material since we would use it to enhance an image even before working on it.\n",
    "\n",
    "-Processing: During this process the image gets processed being this moment where the image can actually morphologically change.\n",
    "\n",
    "-Post-processing : After the changes made on the previous steps we can add some tools on the image depending on its application.\n"
   ]
  },
  {
   "cell_type": "code",
   "execution_count": null,
   "metadata": {},
   "outputs": [],
   "source": [
    "#On this cell you will find the actual libraries that you have to use for this kind of filters and also you can add a path to see how each filltyer effect it.\n",
    "\n",
    "import cv2\n",
    "import numpy as np\n",
    "import matplotlib.pyplot as plt\n",
    "\n",
    "\n",
    "#Loading the image\n",
    "image = cv2.imread('//home//jose//Downloads//image_enhancement//images//image1.jpg', cv2.IMREAD_GRAYSCALE)\n",
    "image2= cv2.imread('//home//jose//Downloads//image_enhancement//images//image1.jpg', cv2.IMREAD_GRAYSCALE)"
   ]
  },
  {
   "cell_type": "markdown",
   "metadata": {},
   "source": [
    "**Negative transformation**\n",
    "\n",
    "The negative transformation inverts the pixel values of the image, producing a photo-negative effect."
   ]
  },
  {
   "cell_type": "code",
   "execution_count": null,
   "metadata": {},
   "outputs": [
    {
     "data": {
      "text/plain": [
       "True"
      ]
     },
     "execution_count": 7,
     "metadata": {},
     "output_type": "execute_result"
    }
   ],
   "source": [
    "\n",
    "# Apply negative transformation\n",
    "negative_image = cv2.bitwise_not(image)\n"
   ]
  },
  {
   "cell_type": "markdown",
   "metadata": {},
   "source": [
    "**Power transformation**\n",
    "\n",
    "Power transformation applies a gamma correction to the image. This is often used for image enhancement."
   ]
  },
  {
   "cell_type": "code",
   "execution_count": null,
   "metadata": {},
   "outputs": [],
   "source": [
    "# Apply power transformation\n",
    "gamma = 2.0\n",
    "power_transformed_image = np.array(255 * (image / 255) ** gamma, dtype='uint8')\n"
   ]
  },
  {
   "cell_type": "markdown",
   "metadata": {},
   "source": [
    "**Piecewise transformation**\n",
    "\n",
    "Piecewise transformations apply different transformations to different ranges of pixel values. For example, this can be used to enhance contrast in specific parts of the image."
   ]
  },
  {
   "cell_type": "code",
   "execution_count": 9,
   "metadata": {},
   "outputs": [],
   "source": [
    "def piecewise_transform(value):\n",
    "    if value < 85:\n",
    "        return value * 0.5\n",
    "    elif value < 170:\n",
    "        return value * 1.5\n",
    "    else:\n",
    "        return value * 0.8\n",
    "\n",
    "piecewise_image = np.array([piecewise_transform(pixel) for pixel in image.flat], dtype='uint8').reshape(image.shape)\n",
    "\n",
    "\n"
   ]
  },
  {
   "cell_type": "markdown",
   "metadata": {},
   "source": [
    "**Difference**\n",
    "\n",
    "The difference operation subtracts one image from another, which can be used to detect changes between two images."
   ]
  },
  {
   "cell_type": "code",
   "execution_count": 13,
   "metadata": {},
   "outputs": [
    {
     "ename": "error",
     "evalue": "OpenCV(4.2.0) ../modules/core/src/arithm.cpp:666: error: (-209:Sizes of input arguments do not match) The operation is neither 'array op array' (where arrays have the same size and the same number of channels), nor 'array op scalar', nor 'scalar op array' in function 'arithm_op'\n",
     "output_type": "error",
     "traceback": [
      "\u001b[0;31m---------------------------------------------------------------------------\u001b[0m",
      "\u001b[0;31merror\u001b[0m                                     Traceback (most recent call last)",
      "Cell \u001b[0;32mIn[13], line 5\u001b[0m\n\u001b[1;32m      2\u001b[0m image2 \u001b[38;5;241m=\u001b[39m cv2\u001b[38;5;241m.\u001b[39mimread(image2, cv2\u001b[38;5;241m.\u001b[39mIMREAD_GRAYSCALE)\n\u001b[1;32m      4\u001b[0m \u001b[38;5;66;03m# Calculate the difference\u001b[39;00m\n\u001b[0;32m----> 5\u001b[0m difference \u001b[38;5;241m=\u001b[39m \u001b[43mcv2\u001b[49m\u001b[38;5;241;43m.\u001b[39;49m\u001b[43mabsdiff\u001b[49m\u001b[43m(\u001b[49m\u001b[43mimage\u001b[49m\u001b[43m,\u001b[49m\u001b[43m \u001b[49m\u001b[43mimage2\u001b[49m\u001b[43m)\u001b[49m\n",
      "\u001b[0;31merror\u001b[0m: OpenCV(4.2.0) ../modules/core/src/arithm.cpp:666: error: (-209:Sizes of input arguments do not match) The operation is neither 'array op array' (where arrays have the same size and the same number of channels), nor 'array op scalar', nor 'scalar op array' in function 'arithm_op'\n"
     ]
    }
   ],
   "source": [
    "# Load another image to compare\n",
    "image2 = cv2.imread(image2, cv2.IMREAD_GRAYSCALE)\n",
    "\n",
    "# Calculate the difference\n",
    "difference = cv2.absdiff(image, image2)"
   ]
  },
  {
   "cell_type": "markdown",
   "metadata": {},
   "source": [
    "**Average**\n",
    "\n",
    "Calculating the average of two images can be used to blend them together."
   ]
  },
  {
   "cell_type": "code",
   "execution_count": null,
   "metadata": {},
   "outputs": [
    {
     "data": {
      "text/plain": [
       "True"
      ]
     },
     "execution_count": 10,
     "metadata": {},
     "output_type": "execute_result"
    }
   ],
   "source": [
    "# Calculate the average of two images\n",
    "average_image = cv2.addWeighted(image, 0.5, image2, 0.5, 0)"
   ]
  },
  {
   "cell_type": "markdown",
   "metadata": {},
   "source": [
    "**Average filter**\n",
    "\n",
    "The average filter (or mean filter) smooths an image by reducing the amount of intensity variation between neighboring pixels. This filter can be used to reduce noise in an image."
   ]
  },
  {
   "cell_type": "code",
   "execution_count": null,
   "metadata": {},
   "outputs": [
    {
     "data": {
      "text/plain": [
       "True"
      ]
     },
     "execution_count": 11,
     "metadata": {},
     "output_type": "execute_result"
    }
   ],
   "source": [
    "# Apply average filter\n",
    "kernel_size = (5, 5)\n",
    "average_filtered_image = cv2.blur(image, kernel_size)"
   ]
  },
  {
   "cell_type": "markdown",
   "metadata": {},
   "source": [
    "**Median filter**\n",
    "\n",
    "The median filter is another technique for reducing noise. Unlike the average filter, the median filter replaces each pixel's value with the median value of the neighboring pixels. It is particularly effective for removing \"salt and pepper\" noise."
   ]
  },
  {
   "cell_type": "code",
   "execution_count": null,
   "metadata": {},
   "outputs": [
    {
     "data": {
      "text/plain": [
       "True"
      ]
     },
     "execution_count": 12,
     "metadata": {},
     "output_type": "execute_result"
    }
   ],
   "source": [
    "# Apply median filter\n",
    "median_filtered_image = cv2.medianBlur(image, 5)"
   ]
  },
  {
   "cell_type": "markdown",
   "metadata": {},
   "source": [
    "**Edge detection filters (Laplacian and Gradient)**\n",
    "\n",
    "Edge detection is used to identify the boundaries within an image. The Laplacian filter detects edges by calculating the second derivative of the image. Gradient filters like Sobel detect edges by calculating the first derivative."
   ]
  },
  {
   "cell_type": "code",
   "execution_count": null,
   "metadata": {},
   "outputs": [
    {
     "data": {
      "text/plain": [
       "True"
      ]
     },
     "execution_count": 13,
     "metadata": {},
     "output_type": "execute_result"
    }
   ],
   "source": [
    " # Apply Laplacian filter\n",
    "laplacian = cv2.Laplacian(image, cv2.CV_64F)\n",
    "laplacian = np.uint8(np.absolute(laplacian))\n",
    "\n",
    "# Apply Sobel filter (gradient)\n",
    "sobel_x = cv2.Sobel(image, cv2.CV_64F, 1, 0, ksize=5)\n",
    "sobel_y = cv2.Sobel(image, cv2.CV_64F, 0, 1, ksize=5)\n",
    "sobel = cv2.magnitude(sobel_x, sobel_y)\n",
    "sobel = np.uint8(np.absolute(sobel))"
   ]
  },
  {
   "cell_type": "markdown",
   "metadata": {},
   "source": [
    "**Matplot cell**\n",
    "\n",
    "On this last cell you will see how to print all the images on just one."
   ]
  },
  {
   "cell_type": "code",
   "execution_count": 11,
   "metadata": {},
   "outputs": [
    {
     "ename": "NameError",
     "evalue": "name 'difference' is not defined",
     "output_type": "error",
     "traceback": [
      "\u001b[0;31m---------------------------------------------------------------------------\u001b[0m",
      "\u001b[0;31mNameError\u001b[0m                                 Traceback (most recent call last)",
      "Cell \u001b[0;32mIn[11], line 6\u001b[0m\n\u001b[1;32m      1\u001b[0m images \u001b[38;5;241m=\u001b[39m {\n\u001b[1;32m      2\u001b[0m     \u001b[38;5;124m'\u001b[39m\u001b[38;5;124mOriginal\u001b[39m\u001b[38;5;124m'\u001b[39m: image,\n\u001b[1;32m      3\u001b[0m     \u001b[38;5;124m'\u001b[39m\u001b[38;5;124mNegative Transformation\u001b[39m\u001b[38;5;124m'\u001b[39m: negative_image,\n\u001b[1;32m      4\u001b[0m     \u001b[38;5;124m'\u001b[39m\u001b[38;5;124mPower Transformation\u001b[39m\u001b[38;5;124m'\u001b[39m: power_transformed_image,\n\u001b[1;32m      5\u001b[0m     \u001b[38;5;124m'\u001b[39m\u001b[38;5;124mPiecewise Transformation\u001b[39m\u001b[38;5;124m'\u001b[39m: piecewise_image,\n\u001b[0;32m----> 6\u001b[0m     \u001b[38;5;124m'\u001b[39m\u001b[38;5;124mDifference\u001b[39m\u001b[38;5;124m'\u001b[39m: \u001b[43mdifference\u001b[49m,\n\u001b[1;32m      7\u001b[0m     \u001b[38;5;124m'\u001b[39m\u001b[38;5;124mAverage\u001b[39m\u001b[38;5;124m'\u001b[39m: average_image,\n\u001b[1;32m      8\u001b[0m     \u001b[38;5;124m'\u001b[39m\u001b[38;5;124mAverage Filter\u001b[39m\u001b[38;5;124m'\u001b[39m: average_filtered_image,\n\u001b[1;32m      9\u001b[0m     \u001b[38;5;124m'\u001b[39m\u001b[38;5;124mMedian Filter\u001b[39m\u001b[38;5;124m'\u001b[39m: median_filtered_image,\n\u001b[1;32m     10\u001b[0m     \u001b[38;5;124m'\u001b[39m\u001b[38;5;124mLaplacian\u001b[39m\u001b[38;5;124m'\u001b[39m: laplacian,\n\u001b[1;32m     11\u001b[0m     \u001b[38;5;124m'\u001b[39m\u001b[38;5;124mSobel\u001b[39m\u001b[38;5;124m'\u001b[39m: sobel\n\u001b[1;32m     12\u001b[0m }\n\u001b[1;32m     14\u001b[0m plt\u001b[38;5;241m.\u001b[39mfigure(figsize\u001b[38;5;241m=\u001b[39m(\u001b[38;5;241m15\u001b[39m, \u001b[38;5;241m10\u001b[39m))\n\u001b[1;32m     15\u001b[0m \u001b[38;5;28;01mfor\u001b[39;00m i, (title, img) \u001b[38;5;129;01min\u001b[39;00m \u001b[38;5;28menumerate\u001b[39m(images\u001b[38;5;241m.\u001b[39mitems(), \u001b[38;5;241m1\u001b[39m):\n",
      "\u001b[0;31mNameError\u001b[0m: name 'difference' is not defined"
     ]
    }
   ],
   "source": [
    "images = {\n",
    "    'Original': image,\n",
    "    'Negative Transformation': negative_image,\n",
    "    'Power Transformation': power_transformed_image,\n",
    "    'Piecewise Transformation': piecewise_image,\n",
    "    'Difference': difference,\n",
    "    'Average': average_image,\n",
    "    'Average Filter': average_filtered_image,\n",
    "    'Median Filter': median_filtered_image,\n",
    "    'Laplacian': laplacian,\n",
    "    'Sobel': sobel\n",
    "}\n",
    "\n",
    "plt.figure(figsize=(15, 10))\n",
    "for i, (title, img) in enumerate(images.items(), 1):\n",
    "    plt.subplot(3, 4, i)\n",
    "    plt.imshow(img, cmap='gray')\n",
    "    plt.title(title)\n",
    "    plt.axis('off')\n",
    "\n",
    "plt.tight_layout()\n",
    "plt.show()"
   ]
  }
 ],
 "metadata": {
  "kernelspec": {
   "display_name": "Python 3",
   "language": "python",
   "name": "python3"
  },
  "language_info": {
   "codemirror_mode": {
    "name": "ipython",
    "version": 3
   },
   "file_extension": ".py",
   "mimetype": "text/x-python",
   "name": "python",
   "nbconvert_exporter": "python",
   "pygments_lexer": "ipython3",
   "version": "3.8.10"
  }
 },
 "nbformat": 4,
 "nbformat_minor": 2
}
